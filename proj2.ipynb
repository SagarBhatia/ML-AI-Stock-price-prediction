{
 "cells": [
  {
   "cell_type": "code",
   "execution_count": 1,
   "metadata": {},
   "outputs": [],
   "source": [
    "import numpy as np\n",
    "from tensorflow import keras"
   ]
  },
  {
   "cell_type": "code",
   "execution_count": 2,
   "metadata": {},
   "outputs": [
    {
     "name": "stderr",
     "output_type": "stream",
     "text": [
      "Using TensorFlow backend.\n"
     ]
    },
    {
     "name": "stdout",
     "output_type": "stream",
     "text": [
      "[INFO] train data shape: (60000, 28, 28)\n",
      "[INFO] test data shape: (10000, 28, 28)\n",
      "[INFO] train samples: 60000\n",
      "[INFO] test samples: 10000\n",
      "[INFO] train data shape: (60000, 784)\n",
      "[INFO] test data shape: (10000, 784)\n",
      "[INFO] train samples: 60000\n",
      "[INFO] test samples: 10000\n",
      "_________________________________________________________________\n",
      "Layer (type)                 Output Shape              Param #   \n",
      "=================================================================\n",
      "dense_1 (Dense)              (None, 512)               401920    \n",
      "_________________________________________________________________\n",
      "activation_1 (Activation)    (None, 512)               0         \n",
      "_________________________________________________________________\n",
      "dropout_1 (Dropout)          (None, 512)               0         \n",
      "_________________________________________________________________\n",
      "dense_2 (Dense)              (None, 256)               131328    \n",
      "_________________________________________________________________\n",
      "activation_2 (Activation)    (None, 256)               0         \n",
      "_________________________________________________________________\n",
      "dropout_2 (Dropout)          (None, 256)               0         \n",
      "_________________________________________________________________\n",
      "dense_3 (Dense)              (None, 10)                2570      \n",
      "_________________________________________________________________\n",
      "activation_3 (Activation)    (None, 10)                0         \n",
      "=================================================================\n",
      "Total params: 535,818\n",
      "Trainable params: 535,818\n",
      "Non-trainable params: 0\n",
      "_________________________________________________________________\n"
     ]
    },
    {
     "name": "stderr",
     "output_type": "stream",
     "text": [
      "C:\\Users\\Anfal\\PycharmProjects\\Tensorflow\\venv\\lib\\site-packages\\ipykernel_launcher.py:71: UserWarning: The `nb_epoch` argument in `fit` has been renamed `epochs`.\n"
     ]
    },
    {
     "name": "stdout",
     "output_type": "stream",
     "text": [
      "Train on 60000 samples, validate on 10000 samples\n",
      "Epoch 1/25\n",
      " - 11s - loss: 0.2643 - acc: 0.9213 - val_loss: 0.1081 - val_acc: 0.9665\n",
      "Epoch 2/25\n",
      " - 10s - loss: 0.1067 - acc: 0.9673 - val_loss: 0.0850 - val_acc: 0.9724\n",
      "Epoch 3/25\n",
      " - 10s - loss: 0.0760 - acc: 0.9765 - val_loss: 0.0707 - val_acc: 0.9778\n",
      "Epoch 4/25\n",
      " - 10s - loss: 0.0586 - acc: 0.9815 - val_loss: 0.0704 - val_acc: 0.9784\n",
      "Epoch 5/25\n",
      " - 11s - loss: 0.0491 - acc: 0.9843 - val_loss: 0.0635 - val_acc: 0.9800\n",
      "Epoch 6/25\n",
      " - 10s - loss: 0.0403 - acc: 0.9868 - val_loss: 0.0589 - val_acc: 0.9837\n",
      "Epoch 7/25\n",
      " - 10s - loss: 0.0335 - acc: 0.9889 - val_loss: 0.0660 - val_acc: 0.9820\n",
      "Epoch 8/25\n",
      " - 10s - loss: 0.0307 - acc: 0.9901 - val_loss: 0.0617 - val_acc: 0.9822\n",
      "Epoch 9/25\n",
      " - 10s - loss: 0.0282 - acc: 0.9909 - val_loss: 0.0670 - val_acc: 0.9819\n",
      "Epoch 10/25\n",
      " - 10s - loss: 0.0255 - acc: 0.9917 - val_loss: 0.0668 - val_acc: 0.9800\n",
      "Epoch 11/25\n",
      " - 10s - loss: 0.0240 - acc: 0.9916 - val_loss: 0.0706 - val_acc: 0.9819\n",
      "Epoch 12/25\n",
      " - 10s - loss: 0.0220 - acc: 0.9924 - val_loss: 0.0674 - val_acc: 0.9823\n",
      "Epoch 13/25\n",
      " - 10s - loss: 0.0206 - acc: 0.9929 - val_loss: 0.0748 - val_acc: 0.9819\n",
      "Epoch 14/25\n",
      " - 10s - loss: 0.0206 - acc: 0.9931 - val_loss: 0.0652 - val_acc: 0.9849\n",
      "Epoch 15/25\n",
      " - 10s - loss: 0.0186 - acc: 0.9937 - val_loss: 0.0696 - val_acc: 0.9842\n",
      "Epoch 16/25\n",
      " - 10s - loss: 0.0158 - acc: 0.9948 - val_loss: 0.0625 - val_acc: 0.9854\n",
      "Epoch 17/25\n",
      " - 10s - loss: 0.0177 - acc: 0.9946 - val_loss: 0.0677 - val_acc: 0.9842\n",
      "Epoch 18/25\n",
      " - 10s - loss: 0.0147 - acc: 0.9949 - val_loss: 0.0749 - val_acc: 0.9827\n",
      "Epoch 19/25\n",
      " - 10s - loss: 0.0141 - acc: 0.9954 - val_loss: 0.0753 - val_acc: 0.9833\n",
      "Epoch 20/25\n",
      " - 10s - loss: 0.0159 - acc: 0.9948 - val_loss: 0.0704 - val_acc: 0.9835\n",
      "Epoch 21/25\n",
      " - 10s - loss: 0.0161 - acc: 0.9945 - val_loss: 0.0789 - val_acc: 0.9832\n",
      "Epoch 22/25\n",
      " - 10s - loss: 0.0143 - acc: 0.9954 - val_loss: 0.0668 - val_acc: 0.9845\n",
      "Epoch 23/25\n",
      " - 10s - loss: 0.0126 - acc: 0.9956 - val_loss: 0.0707 - val_acc: 0.9846\n",
      "Epoch 24/25\n",
      " - 10s - loss: 0.0124 - acc: 0.9958 - val_loss: 0.0721 - val_acc: 0.9840\n",
      "Epoch 25/25\n",
      " - 10s - loss: 0.0129 - acc: 0.9958 - val_loss: 0.0799 - val_acc: 0.9844\n",
      "dict_keys(['val_loss', 'val_acc', 'loss', 'acc'])\n"
     ]
    },
    {
     "data": {
      "text/plain": [
       "<Figure size 640x480 with 1 Axes>"
      ]
     },
     "metadata": {},
     "output_type": "display_data"
    },
    {
     "data": {
      "text/plain": [
       "<Figure size 640x480 with 1 Axes>"
      ]
     },
     "metadata": {},
     "output_type": "display_data"
    },
    {
     "name": "stdout",
     "output_type": "stream",
     "text": [
      "[INFO] test score - 0.07991138771864027\n",
      "[INFO] test accuracy - 0.9844\n"
     ]
    }
   ],
   "source": [
    "# organize imports\n",
    "import numpy as np\n",
    "import matplotlib.pyplot as plt\n",
    "from keras.models import Sequential\n",
    "from keras.layers.core import Dense, Activation, Dropout\n",
    "from keras.datasets import mnist\n",
    "from keras.utils import np_utils\n",
    "\n",
    "# fix a random seed for reproducibility\n",
    "np.random.seed(9)\n",
    "\n",
    "# user inputs\n",
    "nb_epoch = 25\n",
    "num_classes = 10\n",
    "batch_size = 128\n",
    "train_size = 60000\n",
    "test_size = 10000\n",
    "v_length = 784\n",
    "\n",
    "# split the mnist data into train and test\n",
    "(trainData, trainLabels), (testData, testLabels) = mnist.load_data()\n",
    "print (\"[INFO] train data shape: {}\".format(trainData.shape))\n",
    "print (\"[INFO] test data shape: {}\".format(testData.shape))\n",
    "print (\"[INFO] train samples: {}\".format(trainData.shape[0]))\n",
    "print (\"[INFO] test samples: {}\".format(testData.shape[0]))\n",
    "\n",
    "# reshape the dataset\n",
    "trainData = trainData.reshape(train_size, v_length)\n",
    "testData = testData.reshape(test_size, v_length)\n",
    "trainData = trainData.astype(\"float32\")\n",
    "testData = testData.astype(\"float32\")\n",
    "trainData /= 255\n",
    "testData /= 255\n",
    "\n",
    "print (\"[INFO] train data shape: {}\".format(trainData.shape))\n",
    "print (\"[INFO] test data shape: {}\".format(testData.shape))\n",
    "print (\"[INFO] train samples: {}\".format(trainData.shape[0]))\n",
    "print (\"[INFO] test samples: {}\".format(testData.shape[0]))\n",
    "\n",
    "# convert class vectors to binary class matrices --> one-hot encoding\n",
    "mTrainLabels = np_utils.to_categorical(trainLabels, num_classes)\n",
    "mTestLabels = np_utils.to_categorical(testLabels, num_classes)\n",
    "\n",
    "# create the model\n",
    "model = Sequential()\n",
    "model.add(Dense(512, input_shape=(784,\n",
    "                                 )))\n",
    "#(784,)\n",
    "model.add(Activation(\"relu\"))\n",
    "model.add(Dropout(0.2))\n",
    "model.add(Dense(256))\n",
    "model.add(Activation(\"relu\"))\n",
    "model.add(Dropout(0.2))\n",
    "model.add(Dense(num_classes))\n",
    "model.add(Activation(\"softmax\"))\n",
    "\n",
    "# summarize the model\n",
    "model.summary()\n",
    "\n",
    "# compile the model\n",
    "model.compile(loss=\"categorical_crossentropy\",\n",
    "\t\t\t  optimizer=\"adam\",\n",
    "\t\t\t  metrics=[\"accuracy\"])\n",
    "\n",
    "# fit the model\n",
    "history = model.fit(trainData, \n",
    "\t\t\t\t \tmTrainLabels,\n",
    "\t\t\t\t\tvalidation_data=(testData, mTestLabels),\n",
    "\t\t\t\t\tbatch_size=batch_size,\n",
    "\t\t\t\t\tnb_epoch=nb_epoch,\n",
    "\t\t\t\t\tverbose=2)\n",
    "\n",
    "# print the history keys\n",
    "print (history.history.keys())\n",
    "\n",
    "# evaluate the model\n",
    "scores = model.evaluate(testData, mTestLabels, verbose=0)\n",
    "\n",
    "# history plot for accuracy\n",
    "plt.plot(history.history[\"acc\"])\n",
    "plt.plot(history.history[\"val_acc\"])\n",
    "plt.title(\"Model Accuracy\")\n",
    "plt.xlabel(\"Epoch\")\n",
    "plt.ylabel(\"Accuracy\")\n",
    "plt.legend([\"train\", \"test\"], loc=\"upper left\")\n",
    "plt.show()\n",
    "\n",
    "# history plot for accuracy\n",
    "plt.plot(history.history[\"loss\"])\n",
    "plt.plot(history.history[\"val_loss\"])\n",
    "plt.title(\"Model Loss\")\n",
    "plt.xlabel(\"Epoch\")\n",
    "plt.ylabel(\"Loss\")\n",
    "plt.legend([\"train\", \"test\"], loc=\"upper left\")\n",
    "plt.show()\n",
    "\n",
    "# print the results\n",
    "print (\"[INFO] test score - {}\".format(scores[0]))\n",
    "print (\"[INFO] test accuracy - {}\".format(scores[1]))\n",
    "\n"
   ]
  },
  {
   "cell_type": "code",
   "execution_count": 40,
   "metadata": {},
   "outputs": [
    {
     "name": "stdout",
     "output_type": "stream",
     "text": [
      "C:\\Users\\Anfal\n",
      "C:\\Users\\Anfal\n",
      "[INFO] test images shape - (1, 28, 28)\n",
      "[INFO] I think the digit is - 1\n"
     ]
    },
    {
     "data": {
      "image/png": "[encoded data removed]",
      "text/plain": [
       "<Figure size 432x288 with 1 Axes>"
      ]
     },
     "metadata": {
      "needs_background": "light"
     },
     "output_type": "display_data"
    }
   ],
   "source": [
    "import matplotlib.pyplot as plt\n",
    "\n",
    "from PIL import Image\n",
    "import os\n",
    "import cv2\n",
    "print(os.getcwd())\n",
    "os.chdir(\"C:\\\\Users\\\\Anfal\")\n",
    "print(os.getcwd())\n",
    "\n",
    "test_images =cv2.imread('Downloads\\\\img\\\\1img1.png',0)\n",
    "\n",
    "\n",
    "\n",
    "# reshape the test images to standard 28x28 format\n",
    "#test_images = test_images.reshape(1, 28, 28)\n",
    "\n",
    "test_images = cv2.resize(test_images,(28,28))\n",
    "plt.imshow(test_images,cmap='gray')\n",
    "test_images = np.expand_dims(test_images,axis=0)\n",
    "\n",
    "print (\"[INFO] test images shape - {}\".format(test_images.shape))\n",
    "\n",
    "\n",
    "test_images = test_images.reshape(1,784)\n",
    "\n",
    "prediction = model.predict_classes(test_images)\n",
    "\n",
    "print(\"[INFO] I think the digit is - {}\".format(prediction[0]))\n",
    "#plt.subplot(220+i)\n",
    "#plt.imshow(org_image, cmap=plt.get_cmap('gray'))\n",
    "\n",
    "plt.show()"
   ]
  },
  {
   "cell_type": "code",
   "execution_count": null,
   "metadata": {},
   "outputs": [],
   "source": []
  }
 ],
 "metadata": {
  "kernelspec": {
   "display_name": "Python 3",
   "language": "python",
   "name": "python3"
  },
  "language_info": {
   "codemirror_mode": {
    "name": "ipython",
    "version": 3
   },
   "file_extension": ".py",
   "mimetype": "text/x-python",
   "name": "python",
   "nbconvert_exporter": "python",
   "pygments_lexer": "ipython3",
   "version": "3.6.4"
  }
 },
 "nbformat": 4,
 "nbformat_minor": 2
}
